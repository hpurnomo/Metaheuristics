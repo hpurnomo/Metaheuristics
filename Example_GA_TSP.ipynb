{
  "nbformat": 4,
  "nbformat_minor": 0,
  "metadata": {
    "colab": {
      "name": "CONTOH GA TSP.ipynb",
      "provenance": [],
      "collapsed_sections": []
    },
    "kernelspec": {
      "name": "python3",
      "display_name": "Python 3"
    },
    "accelerator": "GPU"
  },
  "cells": [
    {
      "cell_type": "markdown",
      "metadata": {
        "id": "TlvuqXS5H5rj",
        "colab_type": "text"
      },
      "source": [
        "Penerapan Algoritma Genetik untuk menyelesaikan TSP"
      ]
    },
    {
      "cell_type": "markdown",
      "metadata": {
        "id": "YuYsg8XLIA3f",
        "colab_type": "text"
      },
      "source": [
        "memanggil library"
      ]
    },
    {
      "cell_type": "code",
      "metadata": {
        "id": "dUKJPeefH-j-",
        "colab_type": "code",
        "colab": {}
      },
      "source": [
        "import numpy as np \n",
        "import random\n",
        "from array import *"
      ],
      "execution_count": 0,
      "outputs": []
    },
    {
      "cell_type": "markdown",
      "metadata": {
        "id": "8laOpsGPIFWd",
        "colab_type": "text"
      },
      "source": [
        "Membuat daftar kota "
      ]
    },
    {
      "cell_type": "code",
      "metadata": {
        "id": "hkS0WFaXIHc1",
        "colab_type": "code",
        "outputId": "dcf7552e-a3d1-435a-9074-95504533656d",
        "colab": {
          "base_uri": "https://localhost:8080/",
          "height": 119
        }
      },
      "source": [
        "daftarKota = [[0,0], [5,6], [1, 4], [3,4],[7,7]]\n",
        "for i in daftarKota:\n",
        "    for j in i:\n",
        "        print(j,end = \" \")\n",
        "    print()\n",
        "\n",
        "jumlahKota =  len(daftarKota)   \n",
        "print(jumlahKota)"
      ],
      "execution_count": 0,
      "outputs": [
        {
          "output_type": "stream",
          "text": [
            "0 0 \n",
            "5 6 \n",
            "1 4 \n",
            "3 4 \n",
            "7 7 \n",
            "5\n"
          ],
          "name": "stdout"
        }
      ]
    },
    {
      "cell_type": "markdown",
      "metadata": {
        "id": "n-Bh1noVIi72",
        "colab_type": "text"
      },
      "source": [
        "Inisialisasi Populasi secara acak\n",
        "\n",
        "Array P diinisialisasi sebagai array integer\n",
        "\n",
        "Solusi awal dibuat dengan random permutation"
      ]
    },
    {
      "cell_type": "code",
      "metadata": {
        "id": "QxceEYDXImIe",
        "colab_type": "code",
        "outputId": "f17c88c8-71a4-41c5-d36d-4f5d9f4e8822",
        "colab": {
          "base_uri": "https://localhost:8080/",
          "height": 85
        }
      },
      "source": [
        "def initPopulasi(ukuranPopulasi,jumlahKota):\n",
        "  P = np.empty((ukuranPopulasi,jumlahKota))\n",
        "  P = P.astype('int')\n",
        "  for i in range(ukuranPopulasi):\n",
        "    I = np.random.permutation(jumlahKota)\n",
        "    for j in range(jumlahKota):\n",
        "      P[i][j]=I[j]\n",
        "  return P\n",
        "\n",
        "\n",
        "ukuranPopulasi = 4\n",
        "P = initPopulasi (ukuranPopulasi,jumlahKota)\n",
        "print(P)\n",
        "\n"
      ],
      "execution_count": 0,
      "outputs": [
        {
          "output_type": "stream",
          "text": [
            "[[2 3 4 0 1]\n",
            " [4 3 2 1 0]\n",
            " [2 3 0 4 1]\n",
            " [2 3 4 1 0]]\n"
          ],
          "name": "stdout"
        }
      ]
    },
    {
      "cell_type": "markdown",
      "metadata": {
        "id": "x41MjO-XWRLC",
        "colab_type": "text"
      },
      "source": [
        "Membuat fungsi objektif\n",
        "\n",
        "Jarak yang diukur adalah jarak euclidian"
      ]
    },
    {
      "cell_type": "code",
      "metadata": {
        "id": "OLnh33iBWUT_",
        "colab_type": "code",
        "outputId": "63bef2d9-777b-4400-a836-61a1284f7800",
        "colab": {
          "base_uri": "https://localhost:8080/",
          "height": 34
        }
      },
      "source": [
        "def fungsiObjectif(populasi,daftarKota):\n",
        "  sz = populasi.shape\n",
        "  ukuranPopulasi = sz[0]\n",
        "  jumlahKota = sz[1]\n",
        "\n",
        "  matrikJarak = np.empty((ukuranPopulasi))\n",
        "  matrikJarak  = matrikJarak.astype('float')\n",
        "  n = len(daftarKota)\n",
        "\n",
        "  for i in range(ukuranPopulasi):\n",
        "    jarak = 0\n",
        "    for j in range(n-1):\n",
        "      jrkX = daftarKota[populasi[i][j]][0]-daftarKota[populasi[i][j+1]][0]\n",
        "      jrkY = daftarKota[populasi[i][j]][1]-daftarKota[populasi[i][j+1]][1]\n",
        "      d = np.sqrt(jrkX**2 + jrkY**2 )   \n",
        "      jarak = jarak  + d\n",
        "      \n",
        "    dn =  np.sqrt((daftarKota[populasi[i][n-1]][0]-daftarKota[populasi[i][0]][0])**2+ (daftarKota[populasi[i][n-1]][1]-daftarKota[populasi[i][0]][1])**2 )\n",
        "    jarak = jarak  + dn\n",
        "    matrikJarak[i] = jarak\n",
        "\n",
        "  return matrikJarak\n",
        "\n",
        "fitP = fungsiObjectif(P,daftarKota)\n",
        "print(fitP)\n",
        "#print(fitP.dtype)\n",
        "\n"
      ],
      "execution_count": 0,
      "outputs": [
        {
          "output_type": "stream",
          "text": [
            "[29.18188057 29.18188057 23.60769887 21.16942328]\n"
          ],
          "name": "stdout"
        }
      ]
    },
    {
      "cell_type": "markdown",
      "metadata": {
        "id": "MF5fIQc9YnrR",
        "colab_type": "text"
      },
      "source": [
        "Seleksi menggunakan metode tournamen \n",
        "\n",
        "Ukuran turnamen k = 2\n",
        "\n",
        "Jumlah induk yang dipilih adalah 2"
      ]
    },
    {
      "cell_type": "code",
      "metadata": {
        "id": "MOPp5lxuRQfe",
        "colab_type": "code",
        "outputId": "1f5a4db6-5dd1-40ad-f957-edbed8a454de",
        "colab": {
          "base_uri": "https://localhost:8080/",
          "height": 51
        }
      },
      "source": [
        "\n",
        "def seleksi (P,fsObj):\n",
        "  jmlInduk = 2\n",
        "  sz = P.shape\n",
        "  ukuranPopulasi = sz[0]\n",
        "  jumlahKota = sz[1]\n",
        "\n",
        "  Induk = np.empty((jmlInduk,jumlahKota))\n",
        "  Induk = Induk.astype('int')\n",
        "  \n",
        "  for i in range (2):\n",
        "    # memilih dua individu secara acak \n",
        "    r1 = random.randint(0,ukuranPopulasi-1)\n",
        "    r2 = random.randint(0,ukuranPopulasi-1)\n",
        "    \n",
        "    if  fsObj[r1] < fsObj [r2]:\n",
        "      for j in range(jumlahKota):\n",
        "        Induk [i][j] = P[r1][j]\n",
        "    else:\n",
        "      for j in range(jumlahKota):\n",
        "        Induk [i][j] = P[r2][j]\n",
        "  return Induk\n",
        "\n",
        "Induk = seleksi(P,fitP)\n",
        "print(Induk)"
      ],
      "execution_count": 0,
      "outputs": [
        {
          "output_type": "stream",
          "text": [
            "[[2 3 0 4 1]\n",
            " [2 3 4 1 0]]\n"
          ],
          "name": "stdout"
        }
      ]
    },
    {
      "cell_type": "markdown",
      "metadata": {
        "id": "n5Yn_dEqcguL",
        "colab_type": "text"
      },
      "source": [
        "Rekombinasi menggunaka metode Partially Mixed Crossover (PMX)\n",
        "Jumlah anak yang dihasilkan adalah 2"
      ]
    },
    {
      "cell_type": "code",
      "metadata": {
        "id": "lP87dJajWdsX",
        "colab_type": "code",
        "outputId": "42bb18ce-201e-4e8e-85c2-0f01eeaab97c",
        "colab": {
          "base_uri": "https://localhost:8080/",
          "height": 51
        }
      },
      "source": [
        "#crossover \n",
        "\n",
        "def OrderXO(Induk):\n",
        "  sz = Induk.shape\n",
        "  brs = sz[0]\n",
        "  kol = sz[1]\n",
        "  #print(sz, brs, kol)\n",
        "\n",
        "  Anak = np.empty((2,kol))\n",
        "  Anak = Anak.astype('int')\n",
        "\n",
        "  r1 = random.randint(1,kol-2)\n",
        "\n",
        "  for i0 in range(r1): \n",
        "\n",
        "    Anak [0][i0] = Induk[0][i0]\n",
        "    Anak [1][i0] = Induk[1][i0]\n",
        "\n",
        "  batasCek1 = r1\n",
        "  batasCek2 = r1\n",
        "\n",
        "  for i in range(kol):\n",
        "    m = (i+r1)%kol\n",
        "\n",
        "    n1 = Induk[0][i] \n",
        "    n2 = Induk[1][i]\n",
        "\n",
        "    #mengecek apakah kota tertentu sudah ada di anak\n",
        "    idxAda1 = 0\n",
        "    idxAda2 = 0\n",
        "    for j1 in range(batasCek1): \n",
        "      \n",
        "      if batasCek1>(kol-1):\n",
        "        idxAda1 = 1\n",
        "\n",
        "      if Anak [0][j1] ==n2: \n",
        "        idxAda1 = 1\n",
        "            \n",
        "    for j2 in range(batasCek2): \n",
        "      \n",
        "      if batasCek2>(kol-1):\n",
        "        idxAda2 = 1\n",
        "\n",
        "      if Anak [1][i0]  == n1: \n",
        "        idxAda2 = 1\n",
        "\n",
        "    if idxAda1 == 0:\n",
        "      Anak[0][batasCek1] = n2\n",
        "      batasCek1 = batasCek1 +1\n",
        "   \n",
        "    if idxAda2 == 0:\n",
        "      Anak[1][batasCek2] = n1\n",
        "      batasCek2 = batasCek2 +1\n",
        "   \n",
        "  return Anak\n",
        "\n",
        "AnakCX = PMX(Induk)\n",
        "print(\"Anak :\",AnakCX)\n"
      ],
      "execution_count": 0,
      "outputs": [
        {
          "output_type": "stream",
          "text": [
            "Anak : [[2 3 4 1 0]\n",
            " [2 3 0 4 1]]\n"
          ],
          "name": "stdout"
        }
      ]
    },
    {
      "cell_type": "markdown",
      "metadata": {
        "id": "-5JJRBaEZCcC",
        "colab_type": "text"
      },
      "source": [
        "Mutasi dengan Swap\n",
        "\n",
        "index kota yang di swap pada kedua anak sama"
      ]
    },
    {
      "cell_type": "code",
      "metadata": {
        "id": "9cmy4DZ-ZCu7",
        "colab_type": "code",
        "outputId": "c6ba5724-7360-4497-b36c-7746c7df6389",
        "colab": {
          "base_uri": "https://localhost:8080/",
          "height": 85
        }
      },
      "source": [
        "def MutasiSwap(Induk):\n",
        "  sz = Induk.shape\n",
        "  brs = sz[0]\n",
        "  kol = sz[1]\n",
        "\n",
        "  Anak = np.empty((2,kol))\n",
        "  Anak = Anak.astype('int')\n",
        "\n",
        "  Anak = Induk\n",
        "\n",
        "  r1 = random.randint(0,kol-1)\n",
        "  r2 = random.randint(0,kol-1)\n",
        "\n",
        "  while r1 == r2:\n",
        "    r2 = random.randint(0,kol-1)\n",
        "\n",
        "  I1rs1 = Induk [0][r1]\n",
        "  I1rs2 = Induk [0][r2]\n",
        "  I2rs1 = Induk [1][r1]\n",
        "  I2rs2 = Induk [1][r2] \n",
        "\n",
        "  Anak [0][r1] = I1rs2\n",
        "  Anak [0][r2] = I1rs1\n",
        "  Anak [1][r1] = I2rs2  \n",
        "  Anak [1][r2] = I2rs1\n",
        "\n",
        "  return Anak\n",
        "\n",
        "print(\"AnakCX :\",AnakCX)\n",
        "AnakM = MutasiSwap(AnakCX)\n",
        "print(\"AnakM :\",AnakM)\n"
      ],
      "execution_count": 0,
      "outputs": [
        {
          "output_type": "stream",
          "text": [
            "AnakCX : [[3 4 0 2 1]\n",
            " [3 0 1 2 4]]\n",
            "AnakM : [[3 0 4 2 1]\n",
            " [3 1 0 2 4]]\n"
          ],
          "name": "stdout"
        }
      ]
    },
    {
      "cell_type": "markdown",
      "metadata": {
        "id": "TqhipyCpH0qn",
        "colab_type": "text"
      },
      "source": [
        "Elitism (steady state replacement)"
      ]
    },
    {
      "cell_type": "code",
      "metadata": {
        "id": "EzDjyLGVH2Q3",
        "colab_type": "code",
        "outputId": "6a7367c0-4dd7-4247-94b4-ac018985a85d",
        "colab": {
          "base_uri": "https://localhost:8080/",
          "height": 238
        }
      },
      "source": [
        "def Elitism(P,Anak,fitP,fitAnak):\n",
        "  szP = P.shape\n",
        "  brsP = szP[0]\n",
        "  kolP = szP[1]\n",
        "  szA = Anak.shape\n",
        "  brsA = szA[0]\n",
        "  kolA = szA[1]\n",
        "\n",
        "  #print (fitP)\n",
        "  for i in range(brsA):\n",
        "    iJelek = fitP.max()\n",
        "    idxJelek = fitP.argmax()\n",
        "\n",
        "    if fitAnak[i]<iJelek:\n",
        "      fitP[idxJelek] = fitAnak[i]\n",
        "      for j in range (kolP):\n",
        "        P[idxJelek][j] = Anak[i][j]\n",
        "\n",
        "  return [P,fitP]\n",
        "\n",
        "fitAnak= fungsiObjectif(AnakM,daftarKota)\n",
        "print(P)\n",
        "print(AnakM)\n",
        "print(fitP)\n",
        "print(fitAnak)\n",
        "P = Elitism (P,AnakM,fitP,fitAnak)\n",
        "print(P)\n",
        "print(fitP)\n"
      ],
      "execution_count": 0,
      "outputs": [
        {
          "output_type": "stream",
          "text": [
            "[[2 3 4 0 1]\n",
            " [4 3 2 1 0]\n",
            " [2 3 0 4 1]\n",
            " [2 3 4 1 0]]\n",
            "[[3 4 1 0 2]\n",
            " [3 0 4 1 2]]\n",
            "[29.18188057 29.18188057 23.60769887 21.16942328]\n",
            "[21.16942328 23.60769887]\n",
            "[array([[3, 4, 1, 0, 2],\n",
            "       [3, 0, 4, 1, 2],\n",
            "       [2, 3, 0, 4, 1],\n",
            "       [2, 3, 4, 1, 0]]), array([21.16942328, 23.60769887, 23.60769887, 21.16942328])]\n",
            "[21.16942328 23.60769887 23.60769887 21.16942328]\n"
          ],
          "name": "stdout"
        }
      ]
    },
    {
      "cell_type": "markdown",
      "metadata": {
        "id": "eGI6G13MCtyR",
        "colab_type": "text"
      },
      "source": [
        "Prosedur GA "
      ]
    },
    {
      "cell_type": "code",
      "metadata": {
        "id": "Xxsay71_5pFJ",
        "colab_type": "code",
        "outputId": "bdf2ea65-9b65-407e-f618-5f2eb77a0adc",
        "colab": {
          "base_uri": "https://localhost:8080/",
          "height": 357
        }
      },
      "source": [
        "# Inisialisasi paramater\n",
        "PCX = 0.95\n",
        "Pm = 0.01\n",
        "ukuranPopulasi = 4\n",
        "max_generasi = 5\n",
        "\n",
        "# Inisialisasi populasi \n",
        "\n",
        "P = initPopulasi (ukuranPopulasi,jumlahKota)\n",
        "print(\"P0 :\",P)\n",
        "\n",
        "#melakukan evaluasi P\n",
        "fitP = fungsiObjectif(P,daftarKota)\n",
        "print(\"fitness populasi awal:\",fitP)\n",
        "\n",
        "print(\"fitness terbaik awal:\",fitP.min())\n",
        "print(\"rute awal :\",P[fitP.argmin()])\n",
        "\n",
        "\n",
        "for i in range(max_generasi):\n",
        "  print(\"generasi :\",i)\n",
        "  Induk = seleksi(P,fitP)\n",
        "  #print(\"Induk :\",Induk)\n",
        "\n",
        "  Anak = Induk\n",
        "\n",
        "  rxo = random.random()\n",
        "\n",
        "  if rxo < PCX:\n",
        "    Anak = OrderXO(Induk)\n",
        "    #print(\"AnakXO :\",Anak)\n",
        "\n",
        "    rm = random.random()\n",
        "    if rm < Pm:\n",
        "      Anak = MutasiSwap(Anak)\n",
        "      #print(\"AnakR :\",Anak)\n",
        "\n",
        "  fitAnak = fungsiObjectif(Anak,daftarKota)\n",
        "  #print(\"fitAnak :\",fitAnak)\n",
        "\n",
        "  print(\"fitness:\",fitAnak.min())\n",
        "\n",
        "  [P, fitP]= Elitism (P,Anak,fitP,fitAnak)   \n",
        "  \n",
        "print(\"fitness populasi akhir:\",fitP)\n",
        "print(\"fitness akhir:\",fitP.min())\n",
        "print(\"rute akhir :\",P[fitP.argmin()])\n",
        "\n",
        "\n"
      ],
      "execution_count": 0,
      "outputs": [
        {
          "output_type": "stream",
          "text": [
            "P0 : [[2 3 0 4 1]\n",
            " [2 4 1 0 3]\n",
            " [4 3 1 2 0]\n",
            " [4 3 0 2 1]]\n",
            "fitness populasi awal: [23.60769887 23.75452159 26.32316364 20.83130956]\n",
            "fitness terbaik awal: 20.83130955811703\n",
            "rute awal : [4 3 0 2 1]\n",
            "generasi : 0\n",
            "fitness: 21.02260056222933\n",
            "generasi : 1\n",
            "fitness: 23.754521585905813\n",
            "generasi : 2\n",
            "fitness: 21.169423279024105\n",
            "generasi : 3\n",
            "fitness: 23.607698869111033\n",
            "generasi : 4\n",
            "fitness: 24.5395134906164\n",
            "fitness populasi akhir: [21.16942328 21.02260056 21.16942328 20.83130956]\n",
            "fitness akhir: 20.83130955811703\n",
            "rute akhir : [4 3 0 2 1]\n"
          ],
          "name": "stdout"
        }
      ]
    }
  ]
}
